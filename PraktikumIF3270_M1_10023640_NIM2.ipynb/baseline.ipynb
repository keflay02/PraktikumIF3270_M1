{
 "cells": [
  {
   "cell_type": "code",
   "execution_count": null,
   "metadata": {},
   "outputs": [],
   "source": [
    "# Baseline\n",
    "from sklearn.linear_model import LogisticRegression\n",
    "from sklearn.metrics import accuracy_score\n",
    "\n",
    "# Membuat model\n",
    "model = LogisticRegression()\n",
    "\n",
    "# Melatih model menggunakan data latih\n",
    "model.fit(df_train.drop(columns=['target']), df_train['target'])\n",
    "\n",
    "# Melakukan prediksi terhadap data validasi\n",
    "predictions = model.predict(df_val.drop(columns=['target']))\n",
    "\n",
    "# Mengukur performa model menggunakan akurasi\n",
    "accuracy = accuracy_score(df_val['target'], predictions)\n",
    "print(\"Baseline Accuracy:\", accuracy)\n"
   ]
  },
  {
   "cell_type": "code",
   "execution_count": null,
   "metadata": {},
   "outputs": [],
   "source": [
    "# Import library di sini\n",
    "import pandas as pd\n",
    "from sklearn.model_selection import train_test_split"
   ]
  },
  {
   "cell_type": "code",
   "execution_count": null,
   "metadata": {},
   "outputs": [],
   "source": [
    "data = pd.read_csv(\"diabetes.csv\")"
   ]
  },
  {
   "cell_type": "code",
   "execution_count": null,
   "metadata": {},
   "outputs": [],
   "source": [
    "X = data.drop(columns=\"Diabetes\")\n",
    "y = data[\"Diabetes\"].copy()\n",
    "\n",
    "X_train, X_test, y_train, y_test = train_test_split(X, y, test_size=0.2, random_state=123)\n",
    "X_train, X_val, y_train, y_val = train_test_split(X_train, y_train, test_size=0.2, random_state=123)\n",
    "\n",
    "# Gunakan data validasi untuk bereksperimen dengan model\n",
    "# Gunakan data test untuk mengevaluasi model hanya di akhir eksperimen\n",
    "df_train = pd.concat([X_train, y_train], axis=1)\n",
    "df_val = pd.concat([X_val, y_val], axis=1)\n",
    "df_test = pd.concat([X_test, y_test], axis=1)"
   ]
  },
  {
   "cell_type": "code",
   "execution_count": null,
   "metadata": {},
   "outputs": [],
   "source": [
    "# Duplicate Value\n",
    "df_train.drop_duplicates(inplace=True)\n"
   ]
  },
  {
   "cell_type": "code",
   "execution_count": null,
   "metadata": {},
   "outputs": [],
   "source": [
    "# Missing Value\n",
    "df_train.dropna(inplace=True)\n"
   ]
  },
  {
   "cell_type": "code",
   "execution_count": null,
   "metadata": {},
   "outputs": [],
   "source": [
    "# Outlier\n",
    "from scipy import stats\n",
    "\n",
    "# Menghitung z-score untuk setiap kolom numerik\n",
    "z_scores = stats.zscore(df_train.select_dtypes(include='number'))\n",
    "\n",
    "# Menentukan threshold z-score\n",
    "threshold = 3\n",
    "\n",
    "# Mendapatkan indeks baris dengan z-score yang melebihi threshold\n",
    "outlier_indices = np.where(np.abs(z_scores) > threshold)\n",
    "\n",
    "# Menghapus baris yang memiliki outlier\n",
    "df_train.drop(outlier_indices[0], inplace=True)\n"
   ]
  },
  {
   "cell_type": "code",
   "execution_count": null,
   "metadata": {},
   "outputs": [],
   "source": [
    "# Balance Of Data\n",
    "from imblearn.over_sampling import SMOTE\n",
    "\n",
    "# Melakukan oversampling menggunakan SMOTE\n",
    "smote = SMOTE()\n",
    "X_resampled, y_resampled = smote.fit_resample(df_train.drop(columns=['target']), df_train['target'])\n"
   ]
  }
 ],
 "metadata": {
  "language_info": {
   "name": "python"
  }
 },
 "nbformat": 4,
 "nbformat_minor": 2
}
